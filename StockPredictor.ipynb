{
  "nbformat": 4,
  "nbformat_minor": 0,
  "metadata": {
    "colab": {
      "name": "StockPredictor.ipynb",
      "provenance": [],
      "include_colab_link": true
    },
    "kernelspec": {
      "name": "python2",
      "display_name": "Python 2"
    }
  },
  "cells": [
    {
      "cell_type": "markdown",
      "metadata": {
        "id": "view-in-github",
        "colab_type": "text"
      },
      "source": [
        "<a href=\"https://colab.research.google.com/github/merad99/Test/blob/master/StockPredictor.ipynb\" target=\"_parent\"><img src=\"https://colab.research.google.com/assets/colab-badge.svg\" alt=\"Open In Colab\"/></a>"
      ]
    },
    {
      "cell_type": "code",
      "metadata": {
        "id": "dsYQr0A6xVfS",
        "colab_type": "code",
        "colab": {}
      },
      "source": [
        "pip install quandl"
      ],
      "execution_count": 0,
      "outputs": []
    },
    {
      "cell_type": "code",
      "metadata": {
        "id": "ovdJJC5RP57x",
        "colab_type": "code",
        "colab": {}
      },
      "source": [
        "import quandl\n",
        "import numpy as np\n",
        "from sklearn.linear_model import LinearRegression\n",
        "from sklearn.svm import SVR\n",
        "from sklearn.model_selection import train_test_split"
      ],
      "execution_count": 0,
      "outputs": []
    },
    {
      "cell_type": "code",
      "metadata": {
        "id": "VxFJBPdTSsO0",
        "colab_type": "code",
        "colab": {}
      },
      "source": [
        "df = quandl.get('WIKI/AMZN')\n",
        "df = df[['Adj. Close']]\n",
        "#print(df.tail())"
      ],
      "execution_count": 0,
      "outputs": []
    },
    {
      "cell_type": "code",
      "metadata": {
        "id": "PuUKHSKqwJCq",
        "colab_type": "code",
        "colab": {}
      },
      "source": [
        "forecast_out = 1\n",
        "df['Prediction'] = df[['Adj. Close']].shift(-forecast_out)\n",
        "print(df.tail(10))"
      ],
      "execution_count": 0,
      "outputs": []
    },
    {
      "cell_type": "code",
      "metadata": {
        "id": "4suejqhUysoJ",
        "colab_type": "code",
        "colab": {
          "base_uri": "https://localhost:8080/",
          "height": 136
        },
        "outputId": "822b526d-71be-41be-f8a4-62e12b3a2132"
      },
      "source": [
        "X = np.array(df.drop(['Prediction'],1))\n",
        "X = X[:-forecast_out]\n",
        "print(X)"
      ],
      "execution_count": 17,
      "outputs": [
        {
          "output_type": "stream",
          "text": [
            "[[   1.72916667]\n",
            " [   1.70833333]\n",
            " [   1.63583333]\n",
            " ...\n",
            " [1544.1       ]\n",
            " [1495.56      ]\n",
            " [1555.86      ]]\n"
          ],
          "name": "stdout"
        }
      ]
    },
    {
      "cell_type": "code",
      "metadata": {
        "id": "tbZFPBmc_F4P",
        "colab_type": "code",
        "colab": {
          "base_uri": "https://localhost:8080/",
          "height": 51
        },
        "outputId": "2be8ec78-33a2-4556-c53a-3d4cf06334af"
      },
      "source": [
        "Y = np.array(df['Prediction'])\n",
        "Y = Y[:-forecast_out] \n",
        "print(Y)"
      ],
      "execution_count": 16,
      "outputs": [
        {
          "output_type": "stream",
          "text": [
            "[   1.72916667    1.70833333    1.63583333 ... 1544.1        1495.56\n",
            " 1555.86      ]\n"
          ],
          "name": "stdout"
        }
      ]
    }
  ]
}